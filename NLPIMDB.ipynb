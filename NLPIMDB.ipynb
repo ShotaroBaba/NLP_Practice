{
  "nbformat": 4,
  "nbformat_minor": 0,
  "metadata": {
    "colab": {
      "name": "NLPIMDB.ipynb",
      "provenance": [],
      "collapsed_sections": [],
      "include_colab_link": true
    },
    "kernelspec": {
      "name": "python3",
      "display_name": "Python 3"
    }
  },
  "cells": [
    {
      "cell_type": "markdown",
      "metadata": {
        "id": "view-in-github",
        "colab_type": "text"
      },
      "source": [
        "<a href=\"https://colab.research.google.com/github/ShotaroBaba/NLP_Practice/blob/NLP_smaller_dataset/NLPIMDB.ipynb\" target=\"_parent\"><img src=\"https://colab.research.google.com/assets/colab-badge.svg\" alt=\"Open In Colab\"/></a>"
      ]
    },
    {
      "cell_type": "code",
      "metadata": {
        "id": "k02zSz6nO218",
        "colab_type": "code",
        "colab": {}
      },
      "source": [
        "# Firstly, download text dataset.:\n",
        "import os\n",
        "import gensim\n",
        "import requests \n",
        "from gensim.parsing.preprocessing import stem\n",
        "from gensim.parsing.preprocessing import strip_punctuation\n",
        "from gensim.corpora import Dictionary\n",
        "urlToWiki = \"http://ai.stanford.edu/~amaas/data/sentiment/aclImdb_v1.tar.gz\"\n",
        "savedFileName = 'aclImdb_v1.tar.gz'\n",
        "if not os.path.isfile(savedFileName):\n",
        "  with open(savedFileName,'wb') as output:\n",
        "    output.write(requests.get(urlToWiki).content)"
      ],
      "execution_count": 0,
      "outputs": []
    },
    {
      "cell_type": "code",
      "metadata": {
        "id": "VbtusP0NRdBo",
        "colab_type": "code",
        "colab": {}
      },
      "source": [
        "import tarfile\n",
        "\n",
        "# Extract tar.gz file\n",
        "tarfile.open(savedFileName, \"r:gz\").extractall()"
      ],
      "execution_count": 0,
      "outputs": []
    },
    {
      "cell_type": "code",
      "metadata": {
        "id": "Ebdtqv55SCMI",
        "colab_type": "code",
        "colab": {}
      },
      "source": [
        "neg_test = [x[3] for x in os.walk(\"aclImdb/test/neg/\", topdown=False) if x[3].endswith(\".txt\")]\n",
        "post_test  = [x[3] for x in os.walk(\"aclImdb/test/pos/\", topdown=False) if x[3].endswith(\".txt\")]"
      ],
      "execution_count": 0,
      "outputs": []
    },
    {
      "cell_type": "code",
      "metadata": {
        "id": "hjgCeD_FSNMQ",
        "colab_type": "code",
        "colab": {
          "base_uri": "https://localhost:8080/"
        },
        "outputId": "be7bfa6d-040d-4da8-a324-eec3d731caab"
      },
      "source": [
        "neg_train = [x[3] for x in os.walk(\"aclImdb/train/neg/\", topdown=False)if x[3].endswith(\".txt\")]\n",
        "post_train  =[x[3] for x in os.walk(\"aclImdb/train/pos/\", topdown=False)if x[3].endswith(\".txt\")]"
      ],
      "execution_count": 12,
      "outputs": [
        {
          "output_type": "stream",
          "text": [
            "labeledBow.feat  neg  pos  urls_neg.txt  urls_pos.txt\n"
          ],
          "name": "stdout"
        }
      ]
    },
    {
      "cell_type": "code",
      "metadata": {
        "id": "z3ExTiDhOKVu",
        "colab_type": "code",
        "colab": {}
      },
      "source": [
        "\n",
        "\n",
        "# References\n",
        "# Andrew L. Maas, Raymond E. Daly, Peter T. Pham, Dan Huang, Andrew Y. Ng, and Christopher Potts. (2011). Learning Word Vectors for Sentiment Analysis. \n",
        "# The 49th Annual Meeting of the Association for Computational Linguistics (ACL 2011)."
      ],
      "execution_count": 0,
      "outputs": []
    }
  ]
}