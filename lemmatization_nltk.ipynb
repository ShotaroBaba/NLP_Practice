{
  "nbformat": 4,
  "nbformat_minor": 0,
  "metadata": {
    "colab": {
      "name": "lemmatization_nltk.ipynb",
      "provenance": [],
      "collapsed_sections": [],
      "include_colab_link": true
    },
    "kernelspec": {
      "name": "python3",
      "display_name": "Python 3"
    }
  },
  "cells": [
    {
      "cell_type": "markdown",
      "metadata": {
        "id": "view-in-github",
        "colab_type": "text"
      },
      "source": [
        "<a href=\"https://colab.research.google.com/github/ShotaroBaba/NLP_Practice/blob/NLTK_test/lemmatization_nltk.ipynb\" target=\"_parent\"><img src=\"https://colab.research.google.com/assets/colab-badge.svg\" alt=\"Open In Colab\"/></a>"
      ]
    },
    {
      "cell_type": "code",
      "metadata": {
        "id": "2GlDhQ1ThLul",
        "colab_type": "code",
        "colab": {}
      },
      "source": [
        "# Import nltk lemmatizer\n",
        "\n",
        "from nltk.stem import WordNetLemmatizer \n",
        "  \n",
        "lemmatizer = WordNetLemmatizer() "
      ],
      "execution_count": 0,
      "outputs": []
    },
    {
      "cell_type": "code",
      "metadata": {
        "id": "cR8Zlrr1oXBd",
        "colab_type": "code",
        "colab": {}
      },
      "source": [
        "!rm 20news-18828.tar.gz"
      ],
      "execution_count": 0,
      "outputs": []
    },
    {
      "cell_type": "code",
      "metadata": {
        "id": "dUWqow6gj7LM",
        "colab_type": "code",
        "colab": {}
      },
      "source": [
        "import os\n",
        "import requests \n",
        "\n",
        "from gensim.corpora import Dictionary\n",
        "urlToWiki = \"http://qwone.com//~jason/20Newsgroups/20news-18828.tar.gz\"\n",
        "savedFileName = '20news-18828.tar.gz'\n",
        "savedFileDir = '20news-18828'\n",
        "if not os.path.isfile(savedFileName):\n",
        "  with open(savedFileName,'wb') as output:\n",
        "    output.write(requests.get(urlToWiki).content)"
      ],
      "execution_count": 0,
      "outputs": []
    },
    {
      "cell_type": "code",
      "metadata": {
        "id": "5VM5X3abn1Xs",
        "colab_type": "code",
        "colab": {
          "base_uri": "https://localhost:8080/",
          "height": 50
        },
        "outputId": "c837d321-a3e6-4aa8-ac4e-4bd21a30c8ac"
      },
      "source": [
        "!ls -sh"
      ],
      "execution_count": 23,
      "outputs": [
        {
          "output_type": "stream",
          "text": [
            "total 14M\n",
            " 14M 20news-18828.tar.gz  4.0K aclImdb\t4.0K sample_data\n"
          ],
          "name": "stdout"
        }
      ]
    },
    {
      "cell_type": "code",
      "metadata": {
        "id": "qFEZ_oO8hM0S",
        "colab_type": "code",
        "colab": {}
      },
      "source": [
        "import tarfile\n",
        "# Extract tar.gz file\n",
        "tarfile.open(savedFileName, \"r:gz\").extractall()"
      ],
      "execution_count": 0,
      "outputs": []
    },
    {
      "cell_type": "code",
      "metadata": {
        "id": "iKJA7oVDorls",
        "colab_type": "code",
        "colab": {
          "base_uri": "https://localhost:8080/",
          "height": 34
        },
        "outputId": "18e5274a-2512-42e0-8d10-e3f13be6455b"
      },
      "source": [
        "!ls"
      ],
      "execution_count": 27,
      "outputs": [
        {
          "output_type": "stream",
          "text": [
            "20news-18828  20news-18828.tar.gz  aclImdb  sample_data\n"
          ],
          "name": "stdout"
        }
      ]
    },
    {
      "cell_type": "code",
      "metadata": {
        "id": "MwrixthklEgs",
        "colab_type": "code",
        "colab": {}
      },
      "source": [
        "all_files_path = [os.path.join(root,x) for root, _, files in os.walk(savedFileDir) for x in files]"
      ],
      "execution_count": 0,
      "outputs": []
    },
    {
      "cell_type": "code",
      "metadata": {
        "id": "YlZYaHWPlzt0",
        "colab_type": "code",
        "colab": {
          "base_uri": "https://localhost:8080/",
          "height": 50
        },
        "outputId": "94bbf3d8-b433-4a92-edf3-5d6b44d98990"
      },
      "source": [
        "# Check if the files are read correctly:\n",
        "print(len(all_files_path))\n",
        "print(all_files_path[1])"
      ],
      "execution_count": 39,
      "outputs": [
        {
          "output_type": "stream",
          "text": [
            "18828\n",
            "20news-18828/rec.autos/102836\n"
          ],
          "name": "stdout"
        }
      ]
    },
    {
      "cell_type": "code",
      "metadata": {
        "id": "XlEEV3vQqgdJ",
        "colab_type": "code",
        "colab": {}
      },
      "source": [
        "# Return texts from path\n",
        "# if the text is too short, then it will omit it. \n",
        "def fetch_text(path):\n",
        "  with open(path, encoding=\"utf8\", errors='ignore') as f:\n",
        "    text = f.read()\n",
        "    if len(text.split()) < 50:\n",
        "      return False\n",
        "    else:\n",
        "      return text"
      ],
      "execution_count": 0,
      "outputs": []
    },
    {
      "cell_type": "code",
      "metadata": {
        "id": "akeNJS7-l5Id",
        "colab_type": "code",
        "colab": {}
      },
      "source": [
        "all_texts = list(filter(None, [fetch_text(x) for x in all_files_path]))"
      ],
      "execution_count": 0,
      "outputs": []
    },
    {
      "cell_type": "code",
      "metadata": {
        "id": "D__7usFuhbDr",
        "colab_type": "code",
        "colab": {}
      },
      "source": [
        "# Reference  Lang K., & Rennie J. (1997). The 20 newsgroups data set . Retrieved from http://qwone.com/~jason/20Newsgroups/"
      ],
      "execution_count": 0,
      "outputs": []
    }
  ]
}