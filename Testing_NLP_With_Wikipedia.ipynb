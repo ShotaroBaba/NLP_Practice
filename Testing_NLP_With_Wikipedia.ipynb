{
  "nbformat": 4,
  "nbformat_minor": 0,
  "metadata": {
    "colab": {
      "name": "Testing_NLP_With_Wikipedia.ipynb",
      "provenance": [],
      "collapsed_sections": [],
      "include_colab_link": true
    },
    "kernelspec": {
      "name": "python3",
      "display_name": "Python 3"
    }
  },
  "cells": [
    {
      "cell_type": "markdown",
      "metadata": {
        "id": "view-in-github",
        "colab_type": "text"
      },
      "source": [
        "<a href=\"https://colab.research.google.com/github/ShotaroBaba/NLP_Practice/blob/NLP_wiki_datase/Testing_NLP_With_Wikipedia.ipynb\" target=\"_parent\"><img src=\"https://colab.research.google.com/assets/colab-badge.svg\" alt=\"Open In Colab\"/></a>"
      ]
    },
    {
      "cell_type": "code",
      "metadata": {
        "id": "Esrjb-pq2dyC",
        "colab_type": "code",
        "colab": {}
      },
      "source": [
        "# This Notebook demonstrates how NLP and LDA works using Gensim & SpaCy\n",
        "# At first, it downloads 2GB wikipedia data first"
      ],
      "execution_count": 0,
      "outputs": []
    },
    {
      "cell_type": "code",
      "metadata": {
        "id": "EIBtraxU-F7e",
        "colab_type": "code",
        "colab": {}
      },
      "source": [
        "import os\n",
        "import gensim\n",
        "import requests \n",
        "urlToWiki = \"https://dumps.wikimedia.org/enwiki/latest/enwiki-latest-pages-articles-multistream10.xml-p2336425p3046511.bz2\"\n",
        "savedFileName = 'enwiki-latest-pages-articles-multistream10.xml-p2336425p3046511.bz2'\n",
        "if os.path.isfile(savedFileName):\n",
        "  with open(savedFileName,'wb') as output:\n",
        "    output.write(requests.get(urlToWiki).content)"
      ],
      "execution_count": 0,
      "outputs": []
    },
    {
      "cell_type": "code",
      "metadata": {
        "id": "-AvTqiGh_gtW",
        "colab_type": "code",
        "colab": {}
      },
      "source": [
        "# models.ldamulticore()\n",
        "wiki = None\n",
        "corpusFileName = \"enwiki-latest-pages-articles-multistream10.xml-p2336425p3046511.corpus\"\n",
        "if not os.path.isfile(corpusFileName):\n",
        "  wiki = gensim.corpora.wikicorpus.WikiCorpus(savedFileName)\n",
        "else:\n",
        "  pass"
      ],
      "execution_count": 0,
      "outputs": []
    },
    {
      "cell_type": "code",
      "metadata": {
        "id": "pTUrWgyXZs_s",
        "colab_type": "code",
        "outputId": "a9160a72-0f6b-4883-9edb-a273d8242422",
        "colab": {
          "base_uri": "https://localhost:8080/",
          "height": 34
        }
      },
      "source": [
        "len(wiki)"
      ],
      "execution_count": 3,
      "outputs": [
        {
          "output_type": "execute_result",
          "data": {
            "text/plain": [
              "113506"
            ]
          },
          "metadata": {
            "tags": []
          },
          "execution_count": 3
        }
      ]
    },
    {
      "cell_type": "code",
      "metadata": {
        "id": "gU4aO_AneiYQ",
        "colab_type": "code",
        "colab": {}
      },
      "source": [
        "from gensim.corpora import Dictionary"
      ],
      "execution_count": 0,
      "outputs": []
    },
    {
      "cell_type": "code",
      "metadata": {
        "id": "5CF26MRTkJZb",
        "colab_type": "code",
        "colab": {}
      },
      "source": [
        "wiki_dict = Dictionary(list(wiki.get_texts()))"
      ],
      "execution_count": 0,
      "outputs": []
    },
    {
      "cell_type": "code",
      "metadata": {
        "id": "5nH4lK3mpBzg",
        "colab_type": "code",
        "colab": {}
      },
      "source": [
        "wiki_corpus = [wiki_dict.doc2bow(x) for x in wiki.get_texts()]"
      ],
      "execution_count": 0,
      "outputs": []
    },
    {
      "cell_type": "code",
      "metadata": {
        "id": "-RSutcD4_3LN",
        "colab_type": "code",
        "colab": {}
      },
      "source": [
        "# models.ldamulticore()\n",
        "wiki.save_corpus(corpusFileName, corpus = wiki_corpus, id2word = wiki_dict)"
      ],
      "execution_count": 0,
      "outputs": []
    }
  ]
}