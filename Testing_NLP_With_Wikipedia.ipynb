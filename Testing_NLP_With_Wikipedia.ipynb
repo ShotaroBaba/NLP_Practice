{
  "nbformat": 4,
  "nbformat_minor": 0,
  "metadata": {
    "colab": {
      "name": "Testing_NLP_With_Wikipedia.ipynb",
      "provenance": [],
      "collapsed_sections": [],
      "include_colab_link": true
    },
    "kernelspec": {
      "name": "python3",
      "display_name": "Python 3"
    }
  },
  "cells": [
    {
      "cell_type": "markdown",
      "metadata": {
        "id": "view-in-github",
        "colab_type": "text"
      },
      "source": [
        "<a href=\"https://colab.research.google.com/github/ShotaroBaba/NLP_Practice/blob/master/Testing_NLP_With_Wikipedia.ipynb\" target=\"_parent\"><img src=\"https://colab.research.google.com/assets/colab-badge.svg\" alt=\"Open In Colab\"/></a>"
      ]
    },
    {
      "cell_type": "code",
      "metadata": {
        "id": "Esrjb-pq2dyC",
        "colab_type": "code",
        "outputId": "62d6737a-e1b2-4125-8754-8644fdd95938",
        "colab": {
          "base_uri": "https://localhost:8080/",
          "height": 50
        }
      },
      "source": [
        "# This Notebook demonstrates how NLP and LDA works using Gensim & SpaCy\n",
        "# At first, it downloads 2GB wikipedia data first"
      ],
      "execution_count": 0,
      "outputs": [
        {
          "output_type": "stream",
          "text": [
            "\u001b[31mERROR: Could not find a version that satisfies the requirement urllib2 (from versions: none)\u001b[0m\n",
            "\u001b[31mERROR: No matching distribution found for urllib2\u001b[0m\n"
          ],
          "name": "stdout"
        }
      ]
    },
    {
      "cell_type": "code",
      "metadata": {
        "id": "kIbxVkx_F8RF",
        "colab_type": "code",
        "colab": {}
      },
      "source": [
        ""
      ],
      "execution_count": 0,
      "outputs": []
    },
    {
      "cell_type": "code",
      "metadata": {
        "id": "EIBtraxU-F7e",
        "colab_type": "code",
        "colab": {}
      },
      "source": [
        "import os\n",
        "import gensim\n",
        "import requests \n",
        "urlToWiki = \"https://dumps.wikimedia.org/enwiki/latest/enwiki-latest-pages-articles-multistream10.xml-p2336425p3046511.bz2\"\n",
        "with open('enwiki-latest-pages-articles-multistream10.xml-p2336425p3046511.bz2','wb') as output:\n",
        "  output.write(requests.get(urlToWiki).content)"
      ],
      "execution_count": 0,
      "outputs": []
    },
    {
      "cell_type": "code",
      "metadata": {
        "id": "-RSutcD4_3LN",
        "colab_type": "code",
        "colab": {}
      },
      "source": [
        "# models.ldamulticore()\n",
        "if !os.path.isFile(\"enwiki-latest-pages-articles-multistream10.xml-p2336425p3046511.corpus\")\n",
        "  wiki = gensim.corpora.wikicorpus.WikiCorpus(\"enwiki-latest-pages-articles-multistream10.xml-p2336425p3046511.bz2\")\n",
        "  wiki.save(\"enwiki-latest-pages-articles-multistream10.xml-p2336425p3046511.corpus\")"
      ],
      "execution_count": 0,
      "outputs": []
    },
    {
      "cell_type": "code",
      "metadata": {
        "id": "7HactD9zAtKX",
        "colab_type": "code",
        "colab": {}
      },
      "source": [
        ""
      ],
      "execution_count": 0,
      "outputs": []
    }
  ]
}