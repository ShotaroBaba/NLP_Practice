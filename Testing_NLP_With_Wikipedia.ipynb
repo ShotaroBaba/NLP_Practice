{
  "nbformat": 4,
  "nbformat_minor": 0,
  "metadata": {
    "colab": {
      "name": "Testing_NLP_With_Wikipedia.ipynb",
      "provenance": [],
      "collapsed_sections": [],
      "include_colab_link": true
    },
    "kernelspec": {
      "name": "python3",
      "display_name": "Python 3"
    }
  },
  "cells": [
    {
      "cell_type": "markdown",
      "metadata": {
        "id": "view-in-github",
        "colab_type": "text"
      },
      "source": [
        "<a href=\"https://colab.research.google.com/github/ShotaroBaba/NLP_Practice/blob/master/Testing_NLP_With_Wikipedia.ipynb\" target=\"_parent\"><img src=\"https://colab.research.google.com/assets/colab-badge.svg\" alt=\"Open In Colab\"/></a>"
      ]
    },
    {
      "cell_type": "code",
      "metadata": {
        "id": "Esrjb-pq2dyC",
        "colab_type": "code",
        "colab": {}
      },
      "source": [
        "# This Notebook demonstrates how NLP and LDA works using Gensim and Wiki data."
      ],
      "execution_count": 0,
      "outputs": []
    },
    {
      "cell_type": "code",
      "metadata": {
        "id": "EIBtraxU-F7e",
        "colab_type": "code",
        "colab": {}
      },
      "source": [
        "import os\n",
        "import gensim\n",
        "import requests \n",
        "from gensim.parsing.preprocessing import stem\n",
        "from gensim.parsing.preprocessing import strip_punctuation\n",
        "from gensim.corpora import Dictionary\n",
        "urlToWiki = \"https://dumps.wikimedia.org/enwiki/latest/enwiki-latest-pages-articles-multistream10.xml-p2336425p3046511.bz2\"\n",
        "savedFileName = 'enwiki-latest-pages-articles-multistream10.xml-p2336425p3046511.bz2'\n",
        "if not os.path.isfile(savedFileName):\n",
        "  with open(savedFileName,'wb') as output:\n",
        "    output.write(requests.get(urlToWiki).content)"
      ],
      "execution_count": 0,
      "outputs": []
    },
    {
      "cell_type": "code",
      "metadata": {
        "id": "pTUrWgyXZs_s",
        "colab_type": "code",
        "outputId": "fab8446f-62c2-4985-e1f5-69cc69c8d032",
        "colab": {
          "base_uri": "https://localhost:8080/",
          "height": 34
        }
      },
      "source": [
        "wiki = gensim.corpora.wikicorpus.WikiCorpus(savedFileName)\n",
        "stopwords = gensim.parsing.preprocessing.STOPWORDS\n",
        "corpusFileName = \"enwiki-latest-pages-articles-multistream10.xml-p2336425p3046511.corpus\"\n",
        "len(wiki)"
      ],
      "execution_count": 3,
      "outputs": [
        {
          "output_type": "execute_result",
          "data": {
            "text/plain": [
              "113486"
            ]
          },
          "metadata": {
            "tags": []
          },
          "execution_count": 3
        }
      ]
    },
    {
      "cell_type": "code",
      "metadata": {
        "id": "oMmmD8N1TLVE",
        "colab_type": "code",
        "colab": {}
      },
      "source": [
        "import os\n",
        "import gensim\n",
        "import requests \n",
        "from gensim.parsing.preprocessing import stem\n",
        "from gensim.parsing.preprocessing import strip_punctuation\n",
        "from gensim.corpora import Dictionary\n",
        "\n",
        "stopwords = gensim.parsing.preprocessing.STOPWORDS\n",
        "wiki_processed = [[x for x in list(map(lambda y: stem(strip_punctuation(y.lower())), text)) if x not in stopwords] for text in list(wiki.get_texts())]"
      ],
      "execution_count": 0,
      "outputs": []
    },
    {
      "cell_type": "code",
      "metadata": {
        "id": "5CF26MRTkJZb",
        "colab_type": "code",
        "colab": {}
      },
      "source": [
        "wiki_dict = Dictionary(wiki_processed)"
      ],
      "execution_count": 0,
      "outputs": []
    },
    {
      "cell_type": "code",
      "metadata": {
        "id": "5nH4lK3mpBzg",
        "colab_type": "code",
        "colab": {}
      },
      "source": [
        "wiki_corpus = [wiki_dict.doc2bow(x) for x in wiki_processed]\n"
      ],
      "execution_count": 0,
      "outputs": []
    },
    {
      "cell_type": "code",
      "metadata": {
        "id": "P2_J_W0d-a9s",
        "colab_type": "code",
        "colab": {
          "base_uri": "https://localhost:8080/",
          "height": 185
        },
        "outputId": "39a3e84e-adf9-49ac-ac8d-1aa3e99a56e2"
      },
      "source": [
        "wiki_corpus[0][:10]"
      ],
      "execution_count": 13,
      "outputs": [
        {
          "output_type": "execute_result",
          "data": {
            "text/plain": [
              "[(0, 1),\n",
              " (1, 2),\n",
              " (2, 1),\n",
              " (3, 2),\n",
              " (4, 3),\n",
              " (5, 1),\n",
              " (6, 4),\n",
              " (7, 3),\n",
              " (8, 1),\n",
              " (9, 1)]"
            ]
          },
          "metadata": {
            "tags": []
          },
          "execution_count": 13
        }
      ]
    },
    {
      "cell_type": "code",
      "metadata": {
        "id": "-RSutcD4_3LN",
        "colab_type": "code",
        "colab": {}
      },
      "source": [
        "# models.ldamulticore()\n",
        "from gensim.test.utils import datapath, get_tmpfile\n",
        "corpusFileName = \"enwiki-latest-pages-articles-multistream10.xml-p2336425p3046511.mm\"\n",
        "if not os.path.isfile(corpusFileName):\n",
        "   gensim.corpora.MmCorpus.serialize(corpusFileName, wiki_corpus)"
      ],
      "execution_count": 0,
      "outputs": []
    },
    {
      "cell_type": "code",
      "metadata": {
        "id": "ltphyD0GMfZ4",
        "colab_type": "code",
        "colab": {}
      },
      "source": [
        "lda_wiki = gensim.models.LdaMulticore(wiki_corpus, id2word=wiki_dict, num_topics=10)"
      ],
      "execution_count": 0,
      "outputs": []
    },
    {
      "cell_type": "code",
      "metadata": {
        "id": "7t8WgP33QENV",
        "colab_type": "code",
        "colab": {
          "base_uri": "https://localhost:8080/",
          "height": 353
        },
        "outputId": "7556187a-b4ae-4862-e7ea-25740f685ccc"
      },
      "source": [
        "lda_wiki.show_topics()"
      ],
      "execution_count": 12,
      "outputs": [
        {
          "output_type": "execute_result",
          "data": {
            "text/plain": [
              "[(0,\n",
              "  '0.015*\"album\" + 0.015*\"wa\" + 0.014*\"music\" + 0.013*\"song\" + 0.013*\"record\" + 0.011*\"releas\" + 0.010*\"band\" + 0.007*\"singl\" + 0.006*\"perform\" + 0.005*\"chart\"'),\n",
              " (1,\n",
              "  '0.019*\"wa\" + 0.008*\"state\" + 0.007*\"hi\" + 0.005*\"govern\" + 0.005*\"parti\" + 0.004*\"thi\" + 0.004*\"nation\" + 0.004*\"law\" + 0.004*\"elect\" + 0.004*\"polit\"'),\n",
              " (2,\n",
              "  '0.024*\"wa\" + 0.012*\"station\" + 0.009*\"new\" + 0.009*\"oper\" + 0.009*\"servic\" + 0.008*\"compani\" + 0.006*\"air\" + 0.006*\"line\" + 0.006*\"unit\" + 0.005*\"train\"'),\n",
              " (3,\n",
              "  '0.018*\"wa\" + 0.013*\"hi\" + 0.012*\"team\" + 0.012*\"season\" + 0.011*\"plai\" + 0.010*\"game\" + 0.010*\"leagu\" + 0.008*\"club\" + 0.008*\"year\" + 0.007*\"player\"'),\n",
              " (4,\n",
              "  '0.036*\"wa\" + 0.019*\"hi\" + 0.005*\"war\" + 0.005*\"john\" + 0.005*\"th\" + 0.005*\"st\" + 0.005*\"new\" + 0.004*\"church\" + 0.004*\"di\" + 0.004*\"king\"'),\n",
              " (5,\n",
              "  '0.016*\"ar\" + 0.012*\"thi\" + 0.005*\"ha\" + 0.004*\"mai\" + 0.004*\"number\" + 0.004*\"refer\" + 0.004*\"gener\" + 0.004*\"time\" + 0.004*\"type\" + 0.004*\"wa\"'),\n",
              " (6,\n",
              "  '0.026*\"school\" + 0.013*\"univers\" + 0.010*\"ar\" + 0.008*\"student\" + 0.007*\"colleg\" + 0.007*\"educ\" + 0.006*\"ha\" + 0.006*\"high\" + 0.006*\"studi\" + 0.005*\"research\"'),\n",
              " (7,\n",
              "  '0.018*\"hi\" + 0.015*\"wa\" + 0.012*\"film\" + 0.005*\"episod\" + 0.005*\"seri\" + 0.005*\"ha\" + 0.005*\"thei\" + 0.004*\"book\" + 0.004*\"award\" + 0.004*\"time\"'),\n",
              " (8,\n",
              "  '0.010*\"ar\" + 0.010*\"wa\" + 0.008*\"area\" + 0.007*\"river\" + 0.006*\"district\" + 0.006*\"south\" + 0.006*\"ha\" + 0.006*\"north\" + 0.006*\"park\" + 0.006*\"villag\"'),\n",
              " (9,\n",
              "  '0.013*\"wa\" + 0.011*\"game\" + 0.006*\"seri\" + 0.006*\"japan\" + 0.005*\"japanes\" + 0.005*\"star\" + 0.005*\"anim\" + 0.004*\"releas\" + 0.004*\"ar\" + 0.004*\"version\"')]"
            ]
          },
          "metadata": {
            "tags": []
          },
          "execution_count": 12
        }
      ]
    }
  ]
}