{
  "nbformat": 4,
  "nbformat_minor": 0,
  "metadata": {
    "colab": {
      "name": "Testing_NLP_With_Wikipedia.ipynb",
      "provenance": [],
      "collapsed_sections": [],
      "include_colab_link": true
    },
    "kernelspec": {
      "name": "python3",
      "display_name": "Python 3"
    }
  },
  "cells": [
    {
      "cell_type": "markdown",
      "metadata": {
        "id": "view-in-github",
        "colab_type": "text"
      },
      "source": [
        "<a href=\"https://colab.research.google.com/github/ShotaroBaba/NLP_Practice/blob/master/Testing_NLP_With_Wikipedia.ipynb\" target=\"_parent\"><img src=\"https://colab.research.google.com/assets/colab-badge.svg\" alt=\"Open In Colab\"/></a>"
      ]
    },
    {
      "cell_type": "code",
      "metadata": {
        "id": "Esrjb-pq2dyC",
        "colab_type": "code",
        "colab": {}
      },
      "source": [
        "# This Notebook demonstrates how NLP and LDA works using Gensim & SpaCy\n",
        "# At first, it downloads 2GB wikipedia data first"
      ],
      "execution_count": 0,
      "outputs": []
    },
    {
      "cell_type": "code",
      "metadata": {
        "id": "EIBtraxU-F7e",
        "colab_type": "code",
        "colab": {}
      },
      "source": [
        "import os\n",
        "import gensim\n",
        "import requests \n",
        "urlToWiki = \"https://dumps.wikimedia.org/enwiki/latest/enwiki-latest-pages-articles-multistream10.xml-p2336425p3046511.bz2\"\n",
        "savedFileName = 'enwiki-latest-pages-articles-multistream10.xml-p2336425p3046511.bz2'\n",
        "if not os.path.isfile(savedFileName):\n",
        "  with open(savedFileName,'wb') as output:\n",
        "    output.write(requests.get(urlToWiki).content)"
      ],
      "execution_count": 0,
      "outputs": []
    },
    {
      "cell_type": "code",
      "metadata": {
        "id": "d0yV-ES7wn_v",
        "colab_type": "code",
        "colab": {}
      },
      "source": [
        "wiki = gensim.corpora.WikiCorpus(savedFileName)"
      ],
      "execution_count": 0,
      "outputs": []
    },
    {
      "cell_type": "code",
      "metadata": {
        "id": "pTUrWgyXZs_s",
        "colab_type": "code",
        "outputId": "08c0d1ca-d60e-4991-c835-90a0a4f0aa21",
        "colab": {
          "base_uri": "https://localhost:8080/",
          "height": 34
        }
      },
      "source": [
        "corpusFileName = \"enwiki-latest-pages-articles-multistream10.xml-p2336425p3046511.corpus\"\n",
        "len(wiki)"
      ],
      "execution_count": 7,
      "outputs": [
        {
          "output_type": "execute_result",
          "data": {
            "text/plain": [
              "113506"
            ]
          },
          "metadata": {
            "tags": []
          },
          "execution_count": 7
        }
      ]
    },
    {
      "cell_type": "code",
      "metadata": {
        "id": "gU4aO_AneiYQ",
        "colab_type": "code",
        "colab": {}
      },
      "source": [
        "from gensim.corpora import Dictionary"
      ],
      "execution_count": 0,
      "outputs": []
    },
    {
      "cell_type": "code",
      "metadata": {
        "id": "5CF26MRTkJZb",
        "colab_type": "code",
        "colab": {}
      },
      "source": [
        "wiki_dict = Dictionary(list(wiki.get_texts()))"
      ],
      "execution_count": 0,
      "outputs": []
    },
    {
      "cell_type": "code",
      "metadata": {
        "id": "5nH4lK3mpBzg",
        "colab_type": "code",
        "colab": {}
      },
      "source": [
        "wiki_corpus = [wiki_dict.doc2bow(x) for x in wiki.get_texts()]"
      ],
      "execution_count": 0,
      "outputs": []
    },
    {
      "cell_type": "code",
      "metadata": {
        "id": "-RSutcD4_3LN",
        "colab_type": "code",
        "colab": {
          "base_uri": "https://localhost:8080/",
          "height": 197
        },
        "outputId": "ea03268b-4663-48d8-9f24-49c8ad7e6ad2"
      },
      "source": [
        "# models.ldamulticore()\n",
        "corpusFileName = \"enwiki-latest-pages-articles-multistream10.xml-p2336425p3046511.gencorpus\"\n",
        "if not os.path.isfile(corpusFileName):\n",
        "  wiki.save_corpus(savedFileName, corpus = wiki_corpus, id2word = wiki_dict)"
      ],
      "execution_count": 11,
      "outputs": [
        {
          "output_type": "error",
          "ename": "AttributeError",
          "evalue": "ignored",
          "traceback": [
            "\u001b[0;31m---------------------------------------------------------------------------\u001b[0m",
            "\u001b[0;31mAttributeError\u001b[0m                            Traceback (most recent call last)",
            "\u001b[0;32m<ipython-input-11-31050f57192e>\u001b[0m in \u001b[0;36m<module>\u001b[0;34m()\u001b[0m\n\u001b[1;32m      2\u001b[0m \u001b[0mcorpusFileName\u001b[0m \u001b[0;34m=\u001b[0m \u001b[0;34m\"enwiki-latest-pages-articles-multistream10.xml-p2336425p3046511.gencorpus\"\u001b[0m\u001b[0;34m\u001b[0m\u001b[0;34m\u001b[0m\u001b[0m\n\u001b[1;32m      3\u001b[0m \u001b[0;32mif\u001b[0m \u001b[0;32mnot\u001b[0m \u001b[0mos\u001b[0m\u001b[0;34m.\u001b[0m\u001b[0mpath\u001b[0m\u001b[0;34m.\u001b[0m\u001b[0misfile\u001b[0m\u001b[0;34m(\u001b[0m\u001b[0mcorpusFileName\u001b[0m\u001b[0;34m)\u001b[0m\u001b[0;34m:\u001b[0m\u001b[0;34m\u001b[0m\u001b[0;34m\u001b[0m\u001b[0m\n\u001b[0;32m----> 4\u001b[0;31m   \u001b[0mgensim\u001b[0m\u001b[0;34m.\u001b[0m\u001b[0mcorpora\u001b[0m\u001b[0;34m.\u001b[0m\u001b[0mwikicorpus\u001b[0m\u001b[0;34m.\u001b[0m\u001b[0msave_corpus\u001b[0m\u001b[0;34m(\u001b[0m\u001b[0msavedFileName\u001b[0m\u001b[0;34m,\u001b[0m \u001b[0mcorpus\u001b[0m \u001b[0;34m=\u001b[0m \u001b[0mwiki_corpus\u001b[0m\u001b[0;34m,\u001b[0m \u001b[0mid2word\u001b[0m \u001b[0;34m=\u001b[0m \u001b[0mwiki_dict\u001b[0m\u001b[0;34m)\u001b[0m\u001b[0;34m\u001b[0m\u001b[0;34m\u001b[0m\u001b[0m\n\u001b[0m",
            "\u001b[0;31mAttributeError\u001b[0m: module 'gensim.corpora.wikicorpus' has no attribute 'save_corpus'"
          ]
        }
      ]
    }
  ]
}